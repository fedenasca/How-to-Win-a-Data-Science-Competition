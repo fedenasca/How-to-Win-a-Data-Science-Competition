{
 "cells": [
  {
   "cell_type": "markdown",
   "metadata": {},
   "source": [
    "# Final project for \"How to win a data science competition\" Coursera course"
   ]
  },
  {
   "cell_type": "markdown",
   "metadata": {},
   "source": [
    "Author: _Nasca, Matías_\n",
    "\n",
    "(Part 2/2)\n",
    "_______________"
   ]
  },
  {
   "cell_type": "markdown",
   "metadata": {},
   "source": [
    "## Content"
   ]
  },
  {
   "cell_type": "markdown",
   "metadata": {},
   "source": [
    "### [5. Modeling](#5.-Modeling)\n",
    "\n",
    "    - 5.1. Access to data\n",
    "    - 5.2. Scaling\n",
    "    - 5.3. Dimensionality reduction\n",
    "    - 5.4 Ensembling\n",
    "    \n",
    "### [6. Predictions](#6.-Predictions)\n",
    "\n",
    "    - 6.1. Weigthed Averaging\n",
    "    - 6.2. Stacking\n",
    "\n",
    "### [7. Improvements](#7.-Improvements)"
   ]
  },
  {
   "cell_type": "code",
   "execution_count": 1,
   "metadata": {},
   "outputs": [
    {
     "name": "stderr",
     "output_type": "stream",
     "text": [
      "/home/matias/anaconda3/envs/myenv/lib/python3.8/site-packages/sklearn/externals/joblib/__init__.py:15: FutureWarning: sklearn.externals.joblib is deprecated in 0.21 and will be removed in 0.23. Please import this functionality directly from joblib, which can be installed with: pip install joblib. If this warning is raised when loading pickled models, you may need to re-serialize those models with scikit-learn 0.21+.\n",
      "  warnings.warn(msg, category=FutureWarning)\n"
     ]
    }
   ],
   "source": [
    "#DEPENDENCIES\n",
    "\n",
    "#generall & utils\n",
    "import os\n",
    "import gc\n",
    "import warnings\n",
    "\n",
    "#data analysis\n",
    "import numpy as np\n",
    "import pandas as pd\n",
    "\n",
    "#data visualization\n",
    "import matplotlib.pyplot as plt\n",
    "import seaborn as sns\n",
    "\n",
    "#data preprocesses\n",
    "from sklearn.preprocessing import StandardScaler \n",
    "from sklearn.decomposition import PCA\n",
    "\n",
    "#machine learning\n",
    "import lightgbm as lgb\n",
    "from sklearn.model_selection import KFold\n",
    "from sklearn.metrics import r2_score, mean_squared_error\n",
    "from sklearn.linear_model import LinearRegression\n",
    "from sklearn.externals import joblib"
   ]
  },
  {
   "cell_type": "code",
   "execution_count": 2,
   "metadata": {},
   "outputs": [],
   "source": [
    "#IPYTHON CONFIGURATIONS\n",
    "warnings.filterwarnings(\"ignore\")\n",
    "\n",
    "pd.set_option('display.max_rows', 100)\n",
    "pd.set_option('display.max_columns', 100)\n",
    "\n",
    "plt.style.use('ggplot')\n",
    "#%matplotlib inline\n",
    "from tqdm import tqdm_notebook\n",
    "\n",
    "%load_ext autoreload\n",
    "%autoreload 2"
   ]
  },
  {
   "cell_type": "markdown",
   "metadata": {},
   "source": [
    "## 5. Modeling"
   ]
  },
  {
   "cell_type": "markdown",
   "metadata": {},
   "source": [
    "### 5.1. Access to data"
   ]
  },
  {
   "cell_type": "code",
   "execution_count": 3,
   "metadata": {},
   "outputs": [
    {
     "name": "stdout",
     "output_type": "stream",
     "text": [
      "X_train shape:  (1507264, 89)\n",
      "y_train shape:  (1507264, 1)\n",
      "X_test shape:  (214200, 89)\n",
      "y_test shape:  (214200, 1)\n"
     ]
    }
   ],
   "source": [
    "PREPROCESS_PATH = './data/preprocess/'\n",
    "X_train = pd.read_csv(os.path.join(PREPROCESS_PATH,'data_train.csv'))\n",
    "X_test = pd.read_csv(os.path.join(PREPROCESS_PATH,'data_test.csv'))\n",
    "\n",
    "y_train = pd.read_csv(os.path.join(PREPROCESS_PATH,'y_train.csv'))\n",
    "y_test = pd.read_csv(os.path.join(PREPROCESS_PATH,'y_test.csv'))\n",
    "\n",
    "# drop id_columns (for training)\n",
    "month_train = X_train['date_block_num']\n",
    "month_test = X_test['date_block_num']\n",
    "id_columns = ['shop_id','item_id','item_category_id','date_block_num']\n",
    "features = [x for x in X_train.columns if x not in id_columns]\n",
    "X_train = X_train[features]\n",
    "X_test = X_test[features]\n",
    "\n",
    "print('X_train shape: ', X_train.shape)\n",
    "print('y_train shape: ', y_train.shape)\n",
    "print('X_test shape: ', X_test.shape)\n",
    "print('y_test shape: ', y_test.shape)"
   ]
  },
  {
   "cell_type": "code",
   "execution_count": 4,
   "metadata": {},
   "outputs": [
    {
     "name": "stdout",
     "output_type": "stream",
     "text": [
      "Check np.nan:  True\n",
      "Check np.inf:  True\n"
     ]
    }
   ],
   "source": [
    "#wrong values check\n",
    "print('Check np.nan: ', np.any(np.isnan(X_train)))\n",
    "print('Check np.inf: ', ~np.all(np.isfinite(X_train)))"
   ]
  },
  {
   "cell_type": "code",
   "execution_count": 5,
   "metadata": {},
   "outputs": [
    {
     "name": "stdout",
     "output_type": "stream",
     "text": [
      "Check np.nan:  False\n",
      "Check np.inf:  False\n"
     ]
    }
   ],
   "source": [
    "#filling np.nan values\n",
    "X_train = X_train.replace([np.inf, -np.inf], np.nan)\n",
    "X_test = X_test.replace([np.inf, -np.inf], np.nan)\n",
    "\n",
    "for col in X_train.columns:\n",
    "    mean_col = X_train[col].mean()\n",
    "    X_train[col] = X_train[col].fillna(mean_col)\n",
    "    X_test[col] = X_test[col].fillna(mean_col)\n",
    "\n",
    "#sanity check\n",
    "print('Check np.nan: ', np.any(np.isnan(X_train)))\n",
    "print('Check np.inf: ', ~np.all(np.isfinite(X_train)))"
   ]
  },
  {
   "cell_type": "markdown",
   "metadata": {},
   "source": [
    "### 5.2. Scaling"
   ]
  },
  {
   "cell_type": "code",
   "execution_count": 6,
   "metadata": {},
   "outputs": [],
   "source": [
    "# Standard scaling\n",
    "scaler = StandardScaler().fit(X_train)\n",
    "X_train_scaled = scaler.transform(X_train)\n",
    "X_test_scaled = scaler.transform(X_test)\n",
    "\n",
    "del X_train, X_test, scaler\n",
    "gc.collect();"
   ]
  },
  {
   "cell_type": "markdown",
   "metadata": {},
   "source": [
    "### 5.3. Dimensionality reduction"
   ]
  },
  {
   "cell_type": "code",
   "execution_count": 7,
   "metadata": {},
   "outputs": [
    {
     "data": {
      "image/png": "[encoded data removed]",
      "text/plain": [
       "<Figure size 432x288 with 1 Axes>"
      ]
     },
     "metadata": {},
     "output_type": "display_data"
    }
   ],
   "source": [
    "#PCA\n",
    "pca = PCA().fit(X_train_scaled) \n",
    "var_exp = pca.explained_variance_ratio_\n",
    "var_exp_acum = np.cumsum(var_exp)\n",
    "\n",
    "#DataFrame \n",
    "lista_var = []\n",
    "for i in range(X_train_scaled.shape[1]):\n",
    "    dict_var={'nro_cp':i+1, 'var_exp':var_exp[i],'var_exp_acum':var_exp_acum[i]}\n",
    "    lista_var.append(dict_var)    \n",
    "df_var = pd.DataFrame(lista_var)\n",
    "\n",
    "#Plot - Varianza explicada acumulada\n",
    "sns.lineplot(data=df_var, x='nro_cp',y='var_exp_acum', color='blue',lw=2)\n",
    "plt.axhline(0.9, xmax=36, color=\"r\", linestyle=\"--\") #varianza explicada elegida\n",
    "plt.axvline(45, ymax=0.98, color=\"r\", linestyle=\"--\")\n",
    "plt.show()\n",
    "#plt.savefig('reducción de dimensionalidad.png') #exportar imagen\n",
    "\n",
    "del df_var, pca, var_exp, var_exp_acum, lista_var\n",
    "gc.collect();"
   ]
  },
  {
   "cell_type": "code",
   "execution_count": 8,
   "metadata": {},
   "outputs": [
    {
     "name": "stdout",
     "output_type": "stream",
     "text": [
      "X_train reduced shape:  (1507264, 45)\n",
      "X_test reduced shape:  (214200, 45)\n"
     ]
    }
   ],
   "source": [
    "#According above figure, for an explained variability of 90%, it is enough with 45 components \n",
    "pca = PCA(n_components=45, whiten=True, random_state=42)\n",
    "model_pca = pca.fit(X_train_scaled)\n",
    "X_train_scaled_pca = model_pca.transform(X_train_scaled)\n",
    "X_test_scaled_pca  = model_pca.transform(X_test_scaled)\n",
    "\n",
    "pca_cols = []\n",
    "for col in range(X_train_scaled_pca.shape[1]):\n",
    "    pca_col = 'pca_'+str(col)\n",
    "    pca_cols.append(pca_col)\n",
    "\n",
    "X_train_scaled_pca = pd.DataFrame(X_train_scaled_pca, columns=pca_cols)\n",
    "X_test_scaled_pca = pd.DataFrame(X_test_scaled_pca, columns=pca_cols)\n",
    "\n",
    "\n",
    "print('X_train reduced shape: ',X_train_scaled_pca.shape)\n",
    "print('X_test reduced shape: ',X_test_scaled_pca.shape)\n",
    "\n",
    "del X_train_scaled, X_test_scaled, model_pca\n",
    "gc.collect();"
   ]
  },
  {
   "cell_type": "markdown",
   "metadata": {},
   "source": [
    "### 5.4 Ensembling\n",
    "(KFold scheme Time Series)"
   ]
  },
  {
   "cell_type": "code",
   "execution_count": 9,
   "metadata": {},
   "outputs": [],
   "source": [
    "target_range = [0, 20]"
   ]
  },
  {
   "cell_type": "markdown",
   "metadata": {},
   "source": [
    "- **TEST META-FEATURES**"
   ]
  },
  {
   "cell_type": "code",
   "execution_count": 10,
   "metadata": {},
   "outputs": [
    {
     "name": "stdout",
     "output_type": "stream",
     "text": [
      "CPU times: user 6.48 s, sys: 240 ms, total: 6.72 s\n",
      "Wall time: 4.58 s\n"
     ]
    },
    {
     "data": {
      "text/plain": [
       "['./model/lr_model.pkl']"
      ]
     },
     "execution_count": 10,
     "metadata": {},
     "output_type": "execute_result"
    }
   ],
   "source": [
    "%%time\n",
    "#LINEAR REGRESSION(OLS)\n",
    "#model fitting\n",
    "lr_model = LinearRegression()\n",
    "lr_model.fit(X_train_scaled_pca, y_train)\n",
    "\n",
    "#model prediction\n",
    "pred_test_lr = lr_model.predict(X_test_scaled_pca).clip(*target_range)\n",
    "\n",
    "#save model\n",
    "MODEL_PATH = './model/'\n",
    "joblib.dump(lr_model, os.path.join(MODEL_PATH,'lr_model.pkl'))"
   ]
  },
  {
   "cell_type": "code",
   "execution_count": 11,
   "metadata": {},
   "outputs": [
    {
     "name": "stdout",
     "output_type": "stream",
     "text": [
      "CPU times: user 1min 4s, sys: 641 ms, total: 1min 4s\n",
      "Wall time: 1min 6s\n"
     ]
    },
    {
     "data": {
      "text/plain": [
       "['./model/lgb_model.pkl']"
      ]
     },
     "execution_count": 11,
     "metadata": {},
     "output_type": "execute_result"
    }
   ],
   "source": [
    "%%time\n",
    "#BOOSTING(LightGBM regressor)\n",
    "#model fitting\n",
    "lgb_params = {\n",
    "               'feature_fraction': 0.75,\n",
    "               'metric': 'rmse',\n",
    "               'nthread':1, \n",
    "               'min_data_in_leaf': 2**7, \n",
    "               'bagging_fraction': 0.75, \n",
    "               'learning_rate': 0.03, \n",
    "               'objective': 'mse', \n",
    "               'bagging_seed': 2**7, \n",
    "               'num_leaves': 2**7,\n",
    "               'bagging_freq':1,\n",
    "               'verbose':1 \n",
    "              }\n",
    "lgb_train = lgb.Dataset(X_train_scaled_pca, y_train)\n",
    "lgb_model = lgb.train(lgb_params, lgb_train, num_boost_round=100)\n",
    "\n",
    "#model prediction\n",
    "pred_test_lgb = lgb_model.predict(X_test_scaled_pca).clip(*target_range)\n",
    "\n",
    "#save model\n",
    "MODEL_PATH = './model/'\n",
    "joblib.dump(lgb_model, os.path.join(MODEL_PATH,'lgb_model.pkl'))"
   ]
  },
  {
   "cell_type": "code",
   "execution_count": 12,
   "metadata": {},
   "outputs": [],
   "source": [
    "#test predictions to get test meta-features\n",
    "pred_test_lr = pred_test_lr.astype(np.float16)\n",
    "pred_test_lgb = pred_test_lgb.astype(np.float16)\n",
    "X_test_level2 = np.c_[pred_test_lr, pred_test_lgb]"
   ]
  },
  {
   "cell_type": "markdown",
   "metadata": {},
   "source": [
    "- **TRAIN META-FEATURES**"
   ]
  },
  {
   "cell_type": "code",
   "execution_count": 13,
   "metadata": {},
   "outputs": [
    {
     "name": "stdout",
     "output_type": "stream",
     "text": [
      "y_train_level2 shape:  (1222773, 1)\n",
      "X_train_level2 shape:  (1222773, 2)\n",
      "Meta data train:  {26, 27, 28, 29, 30}\n"
     ]
    }
   ],
   "source": [
    "meta_data_train = month_train[month_train >= month_train.min()+1] #months:26,27,28,29,30\n",
    "y_train_level2 = y_train[month_train.isin(meta_data_train)]\n",
    "X_train_level2 = np.zeros([y_train_level2.shape[0], 2])\n",
    "\n",
    "print('y_train_level2 shape: ',y_train_level2.shape)\n",
    "print('X_train_level2 shape: ',X_train_level2.shape)\n",
    "print('Meta data train: ',set(meta_data_train))"
   ]
  },
  {
   "cell_type": "code",
   "execution_count": 14,
   "metadata": {},
   "outputs": [
    {
     "data": {
      "application/vnd.jupyter.widget-view+json": {
       "model_id": "a65723d745184d539501fc135878b7b0",
       "version_major": 2,
       "version_minor": 0
      },
      "text/plain": [
       "HBox(children=(FloatProgress(value=0.0, max=5.0), HTML(value='')))"
      ]
     },
     "metadata": {},
     "output_type": "display_data"
    },
    {
     "name": "stdout",
     "output_type": "stream",
     "text": [
      "26\n",
      "27\n",
      "28\n",
      "29\n",
      "30\n",
      "\n",
      "CPU times: user 3min 27s, sys: 1.44 s, total: 3min 28s\n",
      "Wall time: 3min 30s\n"
     ]
    },
    {
     "data": {
      "text/plain": [
       "83"
      ]
     },
     "execution_count": 14,
     "metadata": {},
     "output_type": "execute_result"
    }
   ],
   "source": [
    "%%time\n",
    "pbar = tqdm_notebook(meta_data_train.unique())\n",
    "for cur_block_num in pbar:\n",
    "    print(cur_block_num)\n",
    "    \n",
    "    '''\n",
    "        1. Split `X_train` into parts\n",
    "        2. Fit linear regression \n",
    "        3. Fit LightGBM          \n",
    "        4. Store predictions from 2. and 3. in the right place of `X_train_level2`. \n",
    "    '''      \n",
    "    \n",
    "    pbar.set_description('{}: Split'.format(cur_block_num))\n",
    "    _X_train = X_train_scaled_pca.loc[month_train <  cur_block_num]\n",
    "    _X_test =  X_train_scaled_pca.loc[month_train == cur_block_num]\n",
    "\n",
    "    _y_train = y_train.loc[month_train <  cur_block_num]\n",
    "    _y_test =  y_train.loc[month_train == cur_block_num]\n",
    "    \n",
    "    pbar.set_description('{}: LR'.format(cur_block_num))\n",
    "    lr = LinearRegression()\n",
    "    lr.fit(_X_train, _y_train)\n",
    "    X_train_level2[meta_data_train == cur_block_num, 0] = np.squeeze(lr.predict(_X_test).clip(*target_range))\n",
    "    \n",
    "    pbar.set_description('{}: LGB'.format(cur_block_num))\n",
    "    lgb_train = lgb.Dataset(_X_train, label=_y_train)\n",
    "    model = lgb.train(lgb_params, lgb_train, 100)\n",
    "    X_train_level2[meta_data_train == cur_block_num, 1] = model.predict(_X_test).clip(*target_range)\n",
    "    \n",
    "del _X_train, _X_test, _y_train, _y_test, lr, model, meta_data_train\n",
    "gc.collect();"
   ]
  },
  {
   "cell_type": "code",
   "execution_count": 15,
   "metadata": {},
   "outputs": [
    {
     "data": {
      "image/png": "[encoded data removed]",
      "text/plain": [
       "<Figure size 432x288 with 1 Axes>"
      ]
     },
     "metadata": {},
     "output_type": "display_data"
    }
   ],
   "source": [
    "#check single model prediction comparison\n",
    "plt.scatter(X_train_level2[:, 0], X_train_level2[:, 1])\n",
    "plt.xlabel('Linear Regression predictions')\n",
    "plt.ylabel('Light Boosting predictions')\n",
    "plt.title('Single model prediction comparison', size=15)\n",
    "plt.show()"
   ]
  },
  {
   "cell_type": "markdown",
   "metadata": {},
   "source": [
    "## 6. Predictions"
   ]
  },
  {
   "cell_type": "markdown",
   "metadata": {},
   "source": [
    "### 6.1. Weigthed Averaging\n",
    "\n",
    "$$\n",
    "mix= \\alpha\\cdot\\text{linreg_prediction}+(1-\\alpha)\\cdot\\text{lgb_prediction}\n",
    "$$\n",
    "\n",
    "\n"
   ]
  },
  {
   "cell_type": "code",
   "execution_count": 16,
   "metadata": {},
   "outputs": [
    {
     "name": "stdout",
     "output_type": "stream",
     "text": [
      "Best alpha: 0.000000; Corresponding r2 score on train: 0.104417\n"
     ]
    }
   ],
   "source": [
    "alphas_to_try = np.linspace(0, 1, 1001)\n",
    "\n",
    "r2_scores = np.array([r2_score(y_train_level2, np.dot(X_train_level2, [alpha, 1 - alpha])) for alpha in alphas_to_try])\n",
    "best_alpha = alphas_to_try[r2_scores.argmax()]\n",
    "r2_wavg = r2_scores.max()\n",
    "\n",
    "print('Best alpha: %f; Corresponding r2 score on train: %f' % (best_alpha, r2_wavg))\n",
    "\n",
    "del alphas_to_try, r2_scores, r2_wavg\n",
    "gc.collect();"
   ]
  },
  {
   "cell_type": "code",
   "execution_count": 17,
   "metadata": {},
   "outputs": [],
   "source": [
    "test_preds = np.squeeze(best_alpha * pred_test_lr) + (1 - best_alpha) * pred_test_lgb\n",
    "\n",
    "DATA_PATH = './data/raw/'\n",
    "test = pd.read_csv(os.path.join(DATA_PATH,'test.csv'),usecols=['ID'],dtype = np.uint16)\n",
    "test['item_cnt_month'] = test_preds\n",
    "test.to_csv('submission_waveraging.csv', index=False)\n",
    "\n",
    "del test\n",
    "gc.collect();"
   ]
  },
  {
   "cell_type": "markdown",
   "metadata": {},
   "source": [
    "### 6.2. Stacking"
   ]
  },
  {
   "cell_type": "markdown",
   "metadata": {},
   "source": [
    "- **TRAIN META-MODEL**\n",
    "(linear regression)"
   ]
  },
  {
   "cell_type": "code",
   "execution_count": 18,
   "metadata": {},
   "outputs": [
    {
     "name": "stdout",
     "output_type": "stream",
     "text": [
      "CPU times: user 87.8 ms, sys: 0 ns, total: 87.8 ms\n",
      "Wall time: 90 ms\n"
     ]
    },
    {
     "data": {
      "text/plain": [
       "LinearRegression(copy_X=True, fit_intercept=True, n_jobs=None, normalize=False)"
      ]
     },
     "execution_count": 18,
     "metadata": {},
     "output_type": "execute_result"
    }
   ],
   "source": [
    "%%time\n",
    "#training\n",
    "meta_model_lr = LinearRegression()\n",
    "meta_model_lr.fit(X_train_level2, y_train_level2)"
   ]
  },
  {
   "cell_type": "code",
   "execution_count": 19,
   "metadata": {},
   "outputs": [
    {
     "name": "stdout",
     "output_type": "stream",
     "text": [
      "Train R-squared for stacking is 0.093810\n"
     ]
    }
   ],
   "source": [
    "#performance evluation\n",
    "train_preds = meta_model_lr.predict(X_train_level2).clip(*target_range)\n",
    "r2_train_stacking = r2_score(y_train_level2, train_preds)\n",
    "\n",
    "test_preds = meta_model_lr.predict(np.vstack((np.squeeze(pred_test_lr), pred_test_lgb)).T).clip(*target_range)\n",
    "DATA_PATH = './data/raw/'\n",
    "test = pd.read_csv(os.path.join(DATA_PATH,'test.csv'),usecols=['ID'],dtype = np.uint16)\n",
    "test['item_cnt_month'] = test_preds\n",
    "test.to_csv('submission_stacking.csv', index=False)\n",
    "\n",
    "print('Train R-squared for stacking is %f' % r2_train_stacking)\n",
    "\n",
    "del test\n",
    "gc.collect();"
   ]
  },
  {
   "cell_type": "markdown",
   "metadata": {},
   "source": [
    "## 7. Improvements"
   ]
  },
  {
   "cell_type": "code",
   "execution_count": 20,
   "metadata": {},
   "outputs": [],
   "source": [
    "### Missing imputations methods\n",
    "### Add feature interacctions\n",
    "### Perform rigurous variable selection\n",
    "### Hyperparameters optimization\n",
    "### Probe new single models and ensemble methods"
   ]
  },
  {
   "cell_type": "code",
   "execution_count": null,
   "metadata": {},
   "outputs": [],
   "source": []
  }
 ],
 "metadata": {
  "kernelspec": {
   "display_name": "Python 3",
   "language": "python",
   "name": "python3"
  },
  "language_info": {
   "codemirror_mode": {
    "name": "ipython",
    "version": 3
   },
   "file_extension": ".py",
   "mimetype": "text/x-python",
   "name": "python",
   "nbconvert_exporter": "python",
   "pygments_lexer": "ipython3",
   "version": "3.8.2"
  }
 },
 "nbformat": 4,
 "nbformat_minor": 4
}
